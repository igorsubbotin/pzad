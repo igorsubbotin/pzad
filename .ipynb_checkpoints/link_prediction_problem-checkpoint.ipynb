{
 "cells": [
  {
   "cell_type": "code",
   "execution_count": 1,
   "metadata": {
    "collapsed": true
   },
   "outputs": [],
   "source": [
    "import time\n",
    "import os\n",
    "import datetime\n",
    "import pandas as pd\n",
    "import numpy as np\n",
    "import collections\n",
    "%matplotlib inline\n",
    "import matplotlib.pyplot as plt\n",
    "import math\n",
    "import sys\n",
    "from copy import copy\n",
    "import random\n",
    "from Queue import Queue\n",
    "import networkx as nx\n",
    "\n",
    "pd.set_option('display.max_columns', None)"
   ]
  },
  {
   "cell_type": "code",
   "execution_count": 2,
   "metadata": {
    "collapsed": true
   },
   "outputs": [],
   "source": [
    "def save_submission(idx, preds, filename):\n",
    "    submission = pd.DataFrame({\"id\": idx, \"prob\": preds})\n",
    "    filename = os.path.expandvars(\"data\\\\link_prediction_problem\\\\results\\\\\" + filename)\n",
    "    submission.to_csv(filename, index=False)"
   ]
  },
  {
   "cell_type": "code",
   "execution_count": 3,
   "metadata": {
    "collapsed": false
   },
   "outputs": [],
   "source": [
    "social_network = pd.read_csv(\"data/link_prediction_problem/social_network.csv\")\n",
    "social_network[\"y\"] = 1\n",
    "suspicious_edges = pd.read_csv(\"data/link_prediction_problem/suspicious_edges.csv\")\n",
    "suspicious_edges[\"y\"] = 0"
   ]
  },
  {
   "cell_type": "code",
   "execution_count": 4,
   "metadata": {
    "collapsed": false
   },
   "outputs": [
    {
     "name": "stdout",
     "output_type": "stream",
     "text": [
      "34834\n",
      "20000\n"
     ]
    }
   ],
   "source": [
    "print social_network.shape[0]\n",
    "print suspicious_edges.shape[0]"
   ]
  },
  {
   "cell_type": "code",
   "execution_count": 5,
   "metadata": {
    "collapsed": true
   },
   "outputs": [],
   "source": [
    "class Node:\n",
    "    def __init__(self, id):\n",
    "        self.id = id\n",
    "        self.outcoming = set()\n",
    "        self.incoming = set()\n",
    "        self.all = set()"
   ]
  },
  {
   "cell_type": "code",
   "execution_count": 6,
   "metadata": {
    "collapsed": true
   },
   "outputs": [],
   "source": [
    "def load_graph(data):\n",
    "    nodes = {}\n",
    "    edges = set()\n",
    "    max_id = 0\n",
    "    for k, row in data.iterrows():\n",
    "        i = row[\"i\"]\n",
    "        if i > max_id:\n",
    "            max_id = i\n",
    "        j = row[\"j\"]\n",
    "        if j > max_id:\n",
    "            max_id = j\n",
    "        if i not in nodes:\n",
    "            nodes[i] = Node(i)\n",
    "        if j not in nodes:\n",
    "            nodes[j] = Node(j)\n",
    "        y = row[\"y\"]\n",
    "        if y == 1:\n",
    "            #nodes[i].outcoming.add(nodes[j])\n",
    "            #nodes[j].incoming.add(nodes[i])\n",
    "            nodes[j].outcoming.add(nodes[i])\n",
    "            nodes[i].incoming.add(nodes[j])\n",
    "        edges.add((j, i, y))\n",
    "    for id in nodes:\n",
    "        node = nodes[id]\n",
    "        node.all = node.incoming.union(node.outcoming)\n",
    "    return nodes, edges"
   ]
  },
  {
   "cell_type": "code",
   "execution_count": 7,
   "metadata": {
    "collapsed": true
   },
   "outputs": [],
   "source": [
    "nodes, edges = load_graph(social_network)"
   ]
  },
  {
   "cell_type": "code",
   "execution_count": 8,
   "metadata": {
    "collapsed": false
   },
   "outputs": [],
   "source": [
    "def create_fake_edges(nodes):\n",
    "    max_id = 0\n",
    "    for id in nodes:\n",
    "        if id > max_id:\n",
    "            max_id = id\n",
    "    fake_edges = set()\n",
    "    n = social_network.shape[0]\n",
    "    i = 0\n",
    "    while i < n: \n",
    "        ix = random.randint(0, max_id)\n",
    "        if ix not in nodes:\n",
    "            continue\n",
    "        node = nodes[ix]\n",
    "        k = len(node.outcoming)\n",
    "        if k == 0:\n",
    "            continue\n",
    "        outcoming = list(node.outcoming)[random.randint(0, k-1)]\n",
    "        k = len(outcoming.outcoming)\n",
    "        if k == 0:\n",
    "            continue\n",
    "        target = list(outcoming.outcoming)[random.randint(0, k-1)]\n",
    "        edge = (node.id, target.id, 0)\n",
    "        true_edge = (node.id, target.id, 1)\n",
    "        if true_edge in edges or edge in fake_edges or true_edge in fake_edges:\n",
    "            continue\n",
    "        fake_edges.add(edge)\n",
    "        #l = [edge, true_edge]\n",
    "        #fake_edges.add(l[random.randint(0, 1)])\n",
    "        i += 1\n",
    "    return fake_edges"
   ]
  },
  {
   "cell_type": "code",
   "execution_count": 9,
   "metadata": {
    "collapsed": true
   },
   "outputs": [],
   "source": [
    "def create_revert_edges(edges, y):\n",
    "    revert = []\n",
    "    for edge in edges:\n",
    "        revert.append((edge[1], edge[0], y))\n",
    "    return revert"
   ]
  },
  {
   "cell_type": "code",
   "execution_count": 10,
   "metadata": {
    "collapsed": false
   },
   "outputs": [],
   "source": [
    "def create_train_df(nodes, edges):\n",
    "    fake_edges = create_fake_edges(nodes)\n",
    "    #fake_edges = list(fake_edges) + list(create_revert_edges(edges, 0))\n",
    "    n = len(edges) + len(fake_edges)\n",
    "    train_set = list(edges) + list(fake_edges)\n",
    "    train = pd.DataFrame(index=range(n))\n",
    "    train[\"i\"] = 0\n",
    "    train[\"j\"] = 0\n",
    "    train[\"y\"] = 0\n",
    "    for k, row in train.iterrows():\n",
    "        train.set_value(k, \"i\", train_set[k][1])\n",
    "        train.set_value(k, \"j\", train_set[k][0])\n",
    "        train.set_value(k, \"y\", train_set[k][2])\n",
    "    return train"
   ]
  },
  {
   "cell_type": "code",
   "execution_count": 11,
   "metadata": {
    "collapsed": false
   },
   "outputs": [],
   "source": [
    "train = create_train_df(nodes, edges)\n",
    "train.to_csv(\"data/link_prediction_problem/train.csv\", index=False)"
   ]
  },
  {
   "cell_type": "code",
   "execution_count": 12,
   "metadata": {
    "collapsed": true
   },
   "outputs": [],
   "source": [
    "train = pd.read_csv(\"data/link_prediction_problem/train.csv\")"
   ]
  },
  {
   "cell_type": "code",
   "execution_count": 13,
   "metadata": {
    "collapsed": true
   },
   "outputs": [],
   "source": [
    "train_nodes, train_edges = load_graph(train)"
   ]
  },
  {
   "cell_type": "code",
   "execution_count": 14,
   "metadata": {
    "collapsed": true
   },
   "outputs": [],
   "source": [
    "def adamic_adar_index(nodes, i, j):\n",
    "    if i not in nodes or j not in nodes:\n",
    "        return 0.0\n",
    "    i_node = nodes[i]\n",
    "    j_node = nodes[j]\n",
    "    res = 0.0\n",
    "    for node in i_node.all.intersection(j_node.all):\n",
    "        ln = float(len(nodes[node.id].all))\n",
    "        if ln > 1.0:\n",
    "            res += 1.0 / math.log(ln)\n",
    "    return res"
   ]
  },
  {
   "cell_type": "code",
   "execution_count": 15,
   "metadata": {
    "collapsed": true
   },
   "outputs": [],
   "source": [
    "def adamic_adar_index2(nodes, i, j):\n",
    "    if i not in nodes or j not in nodes:\n",
    "        return 0.0\n",
    "    i_node = nodes[i]\n",
    "    j_node = nodes[j]\n",
    "    res = 0.0\n",
    "    for node in i_node.outcoming.intersection(j_node.outcoming):\n",
    "        ln = float(len(nodes[node.id].outcoming))\n",
    "        if ln > 1.0:\n",
    "            res += 1.0 / math.log(ln)\n",
    "    return res"
   ]
  },
  {
   "cell_type": "code",
   "execution_count": 16,
   "metadata": {
    "collapsed": true
   },
   "outputs": [],
   "source": [
    "def adamic_adar_index3(nodes, i, j):\n",
    "    if i not in nodes or j not in nodes:\n",
    "        return 0.0\n",
    "    i_node = nodes[i]\n",
    "    j_node = nodes[j]\n",
    "    res = 0.0\n",
    "    for node in i_node.incoming.intersection(j_node.incoming):\n",
    "        ln = float(len(nodes[node.id].incoming))\n",
    "        if ln > 1.0:\n",
    "            res += 1.0 / math.log(ln)\n",
    "    return res"
   ]
  },
  {
   "cell_type": "code",
   "execution_count": 17,
   "metadata": {
    "collapsed": true
   },
   "outputs": [],
   "source": [
    "def jaccards_coef(nodes, i, j):\n",
    "    if i not in nodes or j not in nodes:\n",
    "        return 0.0\n",
    "    i_node = nodes[i]\n",
    "    j_node = nodes[j]\n",
    "    numerator = len(i_node.all.intersection(j_node.all))\n",
    "    denominator = len(i_node.all.union(j_node.all))\n",
    "    if denominator == 0:\n",
    "        return 0.0\n",
    "    return float(numerator) / denominator"
   ]
  },
  {
   "cell_type": "code",
   "execution_count": 18,
   "metadata": {
    "collapsed": true
   },
   "outputs": [],
   "source": [
    "def jaccards_coef2(nodes, i, j):\n",
    "    if i not in nodes or j not in nodes:\n",
    "        return 0.0\n",
    "    i_node = nodes[i]\n",
    "    j_node = nodes[j]\n",
    "    numerator = len(i_node.outcoming.intersection(j_node.outcoming))\n",
    "    denominator = len(i_node.outcoming.union(j_node.outcoming))\n",
    "    if denominator == 0:\n",
    "        return 0.0\n",
    "    return float(numerator) / denominator"
   ]
  },
  {
   "cell_type": "code",
   "execution_count": 19,
   "metadata": {
    "collapsed": true
   },
   "outputs": [],
   "source": [
    "def jaccards_coef3(nodes, i, j):\n",
    "    if i not in nodes or j not in nodes:\n",
    "        return 0.0\n",
    "    i_node = nodes[i]\n",
    "    j_node = nodes[j]\n",
    "    numerator = len(i_node.incoming.intersection(j_node.incoming))\n",
    "    denominator = len(i_node.incoming.union(j_node.incoming))\n",
    "    if denominator == 0:\n",
    "        return 0.0\n",
    "    return float(numerator) / denominator"
   ]
  },
  {
   "cell_type": "code",
   "execution_count": 20,
   "metadata": {
    "collapsed": false
   },
   "outputs": [],
   "source": [
    "def create_graph(nodes, edges, suspicious_edges):\n",
    "    G = nx.Graph()\n",
    "    for node in nodes:\n",
    "        G.add_node(node)\n",
    "    for edge in edges:\n",
    "        G.add_edge(edge[0], edge[1])\n",
    "    for k, row in suspicious_edges.iterrows():\n",
    "        i = row[\"i\"]\n",
    "        j = row[\"j\"]\n",
    "        G.add_node(i)\n",
    "        G.add_node(j)\n",
    "    return G"
   ]
  },
  {
   "cell_type": "code",
   "execution_count": 21,
   "metadata": {
    "collapsed": false
   },
   "outputs": [],
   "source": [
    "def create_features(data, nodes, G):\n",
    "    data = data.copy()\n",
    "    data[\"adamic_adar_index\"] = 0.0\n",
    "    data[\"adamic_adar_index2\"] = 0.0\n",
    "    data[\"adamic_adar_index3\"] = 0.0\n",
    "    data[\"jaccards_coef\"] = 0.0\n",
    "    data[\"jaccards_coef2\"] = 0.0\n",
    "    data[\"jaccards_coef3\"] = 0.0\n",
    "    for k, row in data.iterrows():\n",
    "        i = row[\"i\"]\n",
    "        j = row[\"j\"]\n",
    "        data.set_value(k, \"adamic_adar_index\", adamic_adar_index(nodes, i, j))\n",
    "        data.set_value(k, \"adamic_adar_index2\", adamic_adar_index2(nodes, i, j))\n",
    "        data.set_value(k, \"adamic_adar_index3\", adamic_adar_index3(nodes, i, j))\n",
    "        data.set_value(k, \"jaccards_coef\", jaccards_coef(nodes, i, j))    \n",
    "        data.set_value(k, \"jaccards_coef2\", jaccards_coef2(nodes, i, j))\n",
    "        data.set_value(k, \"jaccards_coef3\", jaccards_coef2(nodes, i, j))\n",
    "    suspicious = []\n",
    "    for k, row in data.iterrows():\n",
    "        i = row[\"i\"]\n",
    "        j = row[\"j\"]\n",
    "        suspicious.append((j, i))\n",
    "    preds = nx.resource_allocation_index(G, suspicious)\n",
    "    data[\"nx_prob\"] = map(lambda x: x[2], preds)\n",
    "    return data"
   ]
  },
  {
   "cell_type": "code",
   "execution_count": 22,
   "metadata": {
    "collapsed": false
   },
   "outputs": [],
   "source": [
    "G = create_graph(nodes, edges, suspicious_edges)\n",
    "data_train = create_features(train, nodes, G)"
   ]
  },
  {
   "cell_type": "code",
   "execution_count": 23,
   "metadata": {
    "collapsed": false
   },
   "outputs": [
    {
     "data": {
      "text/html": [
       "<div style=\"max-height:1000px;max-width:1500px;overflow:auto;\">\n",
       "<table border=\"1\" class=\"dataframe\">\n",
       "  <thead>\n",
       "    <tr style=\"text-align: right;\">\n",
       "      <th></th>\n",
       "      <th>i</th>\n",
       "      <th>j</th>\n",
       "      <th>y</th>\n",
       "      <th>adamic_adar_index</th>\n",
       "      <th>adamic_adar_index2</th>\n",
       "      <th>adamic_adar_index3</th>\n",
       "      <th>jaccards_coef</th>\n",
       "      <th>jaccards_coef2</th>\n",
       "      <th>jaccards_coef3</th>\n",
       "      <th>nx_prob</th>\n",
       "    </tr>\n",
       "  </thead>\n",
       "  <tbody>\n",
       "    <tr>\n",
       "      <th>0</th>\n",
       "      <td> 4279</td>\n",
       "      <td> 818</td>\n",
       "      <td> 1</td>\n",
       "      <td> 0</td>\n",
       "      <td> 0</td>\n",
       "      <td> 0</td>\n",
       "      <td> 0</td>\n",
       "      <td> 0</td>\n",
       "      <td> 0</td>\n",
       "      <td> 0</td>\n",
       "    </tr>\n",
       "  </tbody>\n",
       "</table>\n",
       "</div>"
      ],
      "text/plain": [
       "      i    j  y  adamic_adar_index  adamic_adar_index2  adamic_adar_index3  \\\n",
       "0  4279  818  1                  0                   0                   0   \n",
       "\n",
       "   jaccards_coef  jaccards_coef2  jaccards_coef3  nx_prob  \n",
       "0              0               0               0        0  "
      ]
     },
     "execution_count": 23,
     "metadata": {},
     "output_type": "execute_result"
    }
   ],
   "source": [
    "data_train.head(1)"
   ]
  },
  {
   "cell_type": "code",
   "execution_count": 24,
   "metadata": {
    "collapsed": false
   },
   "outputs": [],
   "source": [
    "data_test = create_features(suspicious_edges, nodes, G)"
   ]
  },
  {
   "cell_type": "code",
   "execution_count": 25,
   "metadata": {
    "collapsed": false
   },
   "outputs": [
    {
     "data": {
      "text/html": [
       "<div style=\"max-height:1000px;max-width:1500px;overflow:auto;\">\n",
       "<table border=\"1\" class=\"dataframe\">\n",
       "  <thead>\n",
       "    <tr style=\"text-align: right;\">\n",
       "      <th></th>\n",
       "      <th>id</th>\n",
       "      <th>i</th>\n",
       "      <th>j</th>\n",
       "      <th>y</th>\n",
       "      <th>adamic_adar_index</th>\n",
       "      <th>adamic_adar_index2</th>\n",
       "      <th>adamic_adar_index3</th>\n",
       "      <th>jaccards_coef</th>\n",
       "      <th>jaccards_coef2</th>\n",
       "      <th>jaccards_coef3</th>\n",
       "      <th>nx_prob</th>\n",
       "    </tr>\n",
       "  </thead>\n",
       "  <tbody>\n",
       "    <tr>\n",
       "      <th>0</th>\n",
       "      <td> 1</td>\n",
       "      <td> 4102</td>\n",
       "      <td> 7781</td>\n",
       "      <td> 0</td>\n",
       "      <td> 0.156082</td>\n",
       "      <td> 0</td>\n",
       "      <td> 0</td>\n",
       "      <td> 0.045455</td>\n",
       "      <td> 0</td>\n",
       "      <td> 0</td>\n",
       "      <td> 0.00165</td>\n",
       "    </tr>\n",
       "  </tbody>\n",
       "</table>\n",
       "</div>"
      ],
      "text/plain": [
       "   id     i     j  y  adamic_adar_index  adamic_adar_index2  \\\n",
       "0   1  4102  7781  0           0.156082                   0   \n",
       "\n",
       "   adamic_adar_index3  jaccards_coef  jaccards_coef2  jaccards_coef3  nx_prob  \n",
       "0                   0       0.045455               0               0  0.00165  "
      ]
     },
     "execution_count": 25,
     "metadata": {},
     "output_type": "execute_result"
    }
   ],
   "source": [
    "data_test.head(1)"
   ]
  },
  {
   "cell_type": "markdown",
   "metadata": {},
   "source": [
    "###Prediction"
   ]
  },
  {
   "cell_type": "code",
   "execution_count": 26,
   "metadata": {
    "collapsed": true
   },
   "outputs": [],
   "source": [
    "# Some tricks to load xgboost on windows\n",
    "def get_framework_path():\n",
    "    return os.path.expandvars(\"%KaggleFrameworkPath%\")\n",
    "\n",
    "def attach_xgboost():\n",
    "    sys.path.append(os.path.join(get_framework_path(), 'xgboost\\\\wrapper'))\n",
    "    \n",
    "attach_xgboost()\n",
    "import xgboost as xgb"
   ]
  },
  {
   "cell_type": "code",
   "execution_count": 27,
   "metadata": {
    "collapsed": true
   },
   "outputs": [],
   "source": [
    "from sklearn import cross_validation\n",
    "import csv"
   ]
  },
  {
   "cell_type": "code",
   "execution_count": 199,
   "metadata": {
    "collapsed": false
   },
   "outputs": [
    {
     "name": "stderr",
     "output_type": "stream",
     "text": [
      "Will train until train error hasn't decreased in 50 rounds.\n",
      "[0]\teval-auc:0.691512\ttrain-auc:0.716959\n",
      "[1]\teval-auc:0.695354\ttrain-auc:0.721787\n",
      "[2]\teval-auc:0.697305\ttrain-auc:0.727933\n",
      "[3]\teval-auc:0.770141\ttrain-auc:0.815861\n",
      "[4]\teval-auc:0.767627\ttrain-auc:0.811266\n",
      "[5]\teval-auc:0.787875\ttrain-auc:0.840536\n",
      "[6]\teval-auc:0.792338\ttrain-auc:0.848708\n",
      "[7]\teval-auc:0.793638\ttrain-auc:0.849730\n",
      "[8]\teval-auc:0.793721\ttrain-auc:0.854171\n",
      "[9]\teval-auc:0.794830\ttrain-auc:0.855566\n",
      "[10]\teval-auc:0.795809\ttrain-auc:0.856191\n",
      "[11]\teval-auc:0.795880\ttrain-auc:0.855793\n",
      "[12]\teval-auc:0.796136\ttrain-auc:0.855631\n",
      "[13]\teval-auc:0.795910\ttrain-auc:0.855301\n",
      "[14]\teval-auc:0.796184\ttrain-auc:0.855017\n",
      "[15]\teval-auc:0.799447\ttrain-auc:0.861241\n",
      "[16]\teval-auc:0.800722\ttrain-auc:0.864922\n",
      "[17]\teval-auc:0.801317\ttrain-auc:0.865462\n",
      "[18]\teval-auc:0.801992\ttrain-auc:0.866195\n",
      "[19]\teval-auc:0.803010\ttrain-auc:0.866442\n",
      "[20]\teval-auc:0.803315\ttrain-auc:0.866390\n",
      "[21]\teval-auc:0.805277\ttrain-auc:0.868919\n",
      "[22]\teval-auc:0.805686\ttrain-auc:0.869074\n",
      "[23]\teval-auc:0.806866\ttrain-auc:0.871180\n",
      "[24]\teval-auc:0.807073\ttrain-auc:0.871521\n",
      "[25]\teval-auc:0.807849\ttrain-auc:0.872511\n",
      "[26]\teval-auc:0.807316\ttrain-auc:0.873321\n",
      "[27]\teval-auc:0.807467\ttrain-auc:0.873536\n",
      "[28]\teval-auc:0.807469\ttrain-auc:0.874527\n",
      "[29]\teval-auc:0.808271\ttrain-auc:0.875023\n",
      "[30]\teval-auc:0.808742\ttrain-auc:0.875349\n",
      "[31]\teval-auc:0.808153\ttrain-auc:0.876268\n",
      "[32]\teval-auc:0.808652\ttrain-auc:0.877544\n",
      "[33]\teval-auc:0.809591\ttrain-auc:0.877971\n",
      "[34]\teval-auc:0.809878\ttrain-auc:0.878185\n",
      "[35]\teval-auc:0.810065\ttrain-auc:0.879039\n",
      "[36]\teval-auc:0.809560\ttrain-auc:0.880574\n",
      "[37]\teval-auc:0.809158\ttrain-auc:0.881027\n",
      "[38]\teval-auc:0.810173\ttrain-auc:0.881392\n",
      "[39]\teval-auc:0.810091\ttrain-auc:0.881996\n",
      "[40]\teval-auc:0.810228\ttrain-auc:0.882172\n",
      "[41]\teval-auc:0.810218\ttrain-auc:0.883117\n",
      "[42]\teval-auc:0.810557\ttrain-auc:0.883260\n",
      "[43]\teval-auc:0.810401\ttrain-auc:0.884641\n",
      "[44]\teval-auc:0.810605\ttrain-auc:0.884670\n",
      "[45]\teval-auc:0.811150\ttrain-auc:0.884808\n",
      "[46]\teval-auc:0.810943\ttrain-auc:0.884843\n",
      "[47]\teval-auc:0.810754\ttrain-auc:0.885728\n",
      "[48]\teval-auc:0.811654\ttrain-auc:0.886197\n",
      "[49]\teval-auc:0.811532\ttrain-auc:0.886718\n",
      "[50]\teval-auc:0.812333\ttrain-auc:0.886981\n",
      "[51]\teval-auc:0.812494\ttrain-auc:0.887531\n",
      "[52]\teval-auc:0.812257\ttrain-auc:0.888313\n",
      "[53]\teval-auc:0.811944\ttrain-auc:0.888502\n",
      "[54]\teval-auc:0.811811\ttrain-auc:0.889200\n",
      "[55]\teval-auc:0.812653\ttrain-auc:0.889567\n",
      "[56]\teval-auc:0.812610\ttrain-auc:0.889748\n",
      "[57]\teval-auc:0.812620\ttrain-auc:0.889982\n",
      "[58]\teval-auc:0.813335\ttrain-auc:0.890193\n",
      "[59]\teval-auc:0.813387\ttrain-auc:0.890509\n",
      "[60]\teval-auc:0.813757\ttrain-auc:0.890548\n",
      "[61]\teval-auc:0.813758\ttrain-auc:0.890935\n",
      "[62]\teval-auc:0.814281\ttrain-auc:0.891049\n",
      "[63]\teval-auc:0.814489\ttrain-auc:0.891084\n",
      "[64]\teval-auc:0.814402\ttrain-auc:0.891510\n",
      "[65]\teval-auc:0.813843\ttrain-auc:0.892016\n",
      "[66]\teval-auc:0.813977\ttrain-auc:0.892165\n",
      "[67]\teval-auc:0.813541\ttrain-auc:0.892187\n",
      "[68]\teval-auc:0.814196\ttrain-auc:0.892263\n",
      "[69]\teval-auc:0.815053\ttrain-auc:0.892535\n",
      "[70]\teval-auc:0.815257\ttrain-auc:0.892663\n",
      "[71]\teval-auc:0.815628\ttrain-auc:0.892713\n",
      "[72]\teval-auc:0.816058\ttrain-auc:0.892809\n",
      "[73]\teval-auc:0.816044\ttrain-auc:0.892804\n",
      "[74]\teval-auc:0.816565\ttrain-auc:0.893341\n",
      "[75]\teval-auc:0.816564\ttrain-auc:0.893964\n",
      "[76]\teval-auc:0.816831\ttrain-auc:0.893990\n",
      "[77]\teval-auc:0.816950\ttrain-auc:0.894081\n",
      "[78]\teval-auc:0.817150\ttrain-auc:0.894445\n",
      "[79]\teval-auc:0.816805\ttrain-auc:0.894721\n",
      "[80]\teval-auc:0.816866\ttrain-auc:0.895177\n",
      "[81]\teval-auc:0.817144\ttrain-auc:0.895287\n",
      "[82]\teval-auc:0.817581\ttrain-auc:0.895359\n",
      "[83]\teval-auc:0.817916\ttrain-auc:0.895489\n",
      "[84]\teval-auc:0.817692\ttrain-auc:0.895944\n",
      "[85]\teval-auc:0.817757\ttrain-auc:0.896032\n",
      "[86]\teval-auc:0.817750\ttrain-auc:0.896164\n",
      "[87]\teval-auc:0.817712\ttrain-auc:0.896181\n",
      "[88]\teval-auc:0.818063\ttrain-auc:0.896273\n",
      "[89]\teval-auc:0.818298\ttrain-auc:0.896348\n",
      "[90]\teval-auc:0.818518\ttrain-auc:0.896485\n",
      "[91]\teval-auc:0.818374\ttrain-auc:0.896489\n",
      "[92]\teval-auc:0.818377\ttrain-auc:0.896514\n",
      "[93]\teval-auc:0.818165\ttrain-auc:0.896598\n",
      "[94]\teval-auc:0.818305\ttrain-auc:0.897236\n",
      "[95]\teval-auc:0.818552\ttrain-auc:0.897281\n",
      "[96]\teval-auc:0.818851\ttrain-auc:0.897275\n",
      "[97]\teval-auc:0.819049\ttrain-auc:0.897283\n",
      "[98]\teval-auc:0.819207\ttrain-auc:0.897660\n",
      "[99]\teval-auc:0.819126\ttrain-auc:0.897945\n",
      "[100]\teval-auc:0.818861\ttrain-auc:0.898362\n",
      "[101]\teval-auc:0.819125\ttrain-auc:0.898462\n",
      "[102]\teval-auc:0.819290\ttrain-auc:0.898513\n",
      "[103]\teval-auc:0.819278\ttrain-auc:0.899009\n",
      "[104]\teval-auc:0.819140\ttrain-auc:0.899171\n",
      "[105]\teval-auc:0.819033\ttrain-auc:0.899512\n",
      "[106]\teval-auc:0.819136\ttrain-auc:0.899535\n",
      "[107]\teval-auc:0.818919\ttrain-auc:0.899843\n",
      "[108]\teval-auc:0.819000\ttrain-auc:0.900289\n",
      "[109]\teval-auc:0.818943\ttrain-auc:0.900489\n",
      "[110]\teval-auc:0.818618\ttrain-auc:0.900674\n",
      "[111]\teval-auc:0.818533\ttrain-auc:0.900787\n",
      "[112]\teval-auc:0.818744\ttrain-auc:0.900830\n",
      "[113]\teval-auc:0.818788\ttrain-auc:0.901043\n",
      "[114]\teval-auc:0.818806\ttrain-auc:0.901131\n",
      "[115]\teval-auc:0.819211\ttrain-auc:0.901257\n",
      "[116]\teval-auc:0.819576\ttrain-auc:0.901258\n",
      "[117]\teval-auc:0.820047\ttrain-auc:0.901282\n",
      "[118]\teval-auc:0.819936\ttrain-auc:0.901253\n",
      "[119]\teval-auc:0.819772\ttrain-auc:0.901644\n",
      "[120]\teval-auc:0.819518\ttrain-auc:0.901725\n",
      "[121]\teval-auc:0.820114\ttrain-auc:0.901777\n",
      "[122]\teval-auc:0.820076\ttrain-auc:0.902022\n",
      "[123]\teval-auc:0.820293\ttrain-auc:0.902103\n",
      "[124]\teval-auc:0.820659\ttrain-auc:0.902213\n",
      "[125]\teval-auc:0.820729\ttrain-auc:0.902221\n",
      "[126]\teval-auc:0.820969\ttrain-auc:0.902254\n",
      "[127]\teval-auc:0.820688\ttrain-auc:0.902282\n",
      "[128]\teval-auc:0.821120\ttrain-auc:0.902262\n",
      "[129]\teval-auc:0.821054\ttrain-auc:0.902649\n",
      "[130]\teval-auc:0.820958\ttrain-auc:0.902683\n",
      "[131]\teval-auc:0.821088\ttrain-auc:0.902683\n",
      "[132]\teval-auc:0.821444\ttrain-auc:0.902707\n",
      "[133]\teval-auc:0.821229\ttrain-auc:0.902864\n",
      "[134]\teval-auc:0.821317\ttrain-auc:0.903075\n",
      "[135]\teval-auc:0.820877\ttrain-auc:0.903261\n",
      "[136]\teval-auc:0.820949\ttrain-auc:0.903297\n",
      "[137]\teval-auc:0.820677\ttrain-auc:0.903552\n",
      "[138]\teval-auc:0.820487\ttrain-auc:0.903841\n",
      "[139]\teval-auc:0.820506\ttrain-auc:0.904083\n",
      "[140]\teval-auc:0.820474\ttrain-auc:0.904102\n",
      "[141]\teval-auc:0.820375\ttrain-auc:0.904144\n",
      "[142]\teval-auc:0.820272\ttrain-auc:0.904308\n",
      "[143]\teval-auc:0.820567\ttrain-auc:0.904349\n",
      "[144]\teval-auc:0.820636\ttrain-auc:0.904388\n",
      "[145]\teval-auc:0.820396\ttrain-auc:0.904563\n",
      "[146]\teval-auc:0.820310\ttrain-auc:0.904663\n",
      "[147]\teval-auc:0.820085\ttrain-auc:0.904786\n",
      "[148]\teval-auc:0.819863\ttrain-auc:0.904909\n",
      "[149]\teval-auc:0.819263\ttrain-auc:0.905006\n",
      "[150]\teval-auc:0.819305\ttrain-auc:0.905152\n",
      "[151]\teval-auc:0.819077\ttrain-auc:0.905276\n",
      "[152]\teval-auc:0.819198\ttrain-auc:0.905343\n",
      "[153]\teval-auc:0.819073\ttrain-auc:0.905417\n",
      "[154]\teval-auc:0.818744\ttrain-auc:0.905556\n",
      "[155]\teval-auc:0.818845\ttrain-auc:0.905649\n",
      "[156]\teval-auc:0.818609\ttrain-auc:0.905760\n",
      "[157]\teval-auc:0.818809\ttrain-auc:0.905843\n",
      "[158]\teval-auc:0.818913\ttrain-auc:0.905988\n",
      "[159]\teval-auc:0.819029\ttrain-auc:0.906069\n",
      "[160]\teval-auc:0.819054\ttrain-auc:0.906114\n",
      "[161]\teval-auc:0.819471\ttrain-auc:0.906422\n",
      "[162]\teval-auc:0.819425\ttrain-auc:0.906488\n",
      "[163]\teval-auc:0.819441\ttrain-auc:0.906568\n",
      "[164]\teval-auc:0.819549\ttrain-auc:0.906616\n",
      "[165]\teval-auc:0.819487\ttrain-auc:0.906743\n",
      "[166]\teval-auc:0.819835\ttrain-auc:0.906832\n",
      "[167]\teval-auc:0.820132\ttrain-auc:0.906919\n",
      "[168]\teval-auc:0.820156\ttrain-auc:0.906986\n",
      "[169]\teval-auc:0.819760\ttrain-auc:0.907089\n",
      "[170]\teval-auc:0.820240\ttrain-auc:0.907137\n",
      "[171]\teval-auc:0.820147\ttrain-auc:0.907218\n",
      "[172]\teval-auc:0.819859\ttrain-auc:0.907395\n",
      "[173]\teval-auc:0.819882\ttrain-auc:0.907392\n",
      "[174]\teval-auc:0.819637\ttrain-auc:0.907615\n",
      "[175]\teval-auc:0.819292\ttrain-auc:0.907664\n",
      "[176]\teval-auc:0.819311\ttrain-auc:0.907719\n",
      "[177]\teval-auc:0.819291\ttrain-auc:0.907729\n",
      "[178]\teval-auc:0.819395\ttrain-auc:0.907767\n",
      "[179]\teval-auc:0.819313\ttrain-auc:0.907724\n",
      "[180]\teval-auc:0.819096\ttrain-auc:0.907743\n",
      "[181]\teval-auc:0.819051\ttrain-auc:0.907901\n",
      "[182]\teval-auc:0.819240\ttrain-auc:0.907996\n",
      "[183]\teval-auc:0.819005\ttrain-auc:0.908081\n",
      "[184]\teval-auc:0.819120\ttrain-auc:0.908097\n",
      "[185]\teval-auc:0.818881\ttrain-auc:0.908181\n",
      "[186]\teval-auc:0.819274\ttrain-auc:0.908257\n",
      "[187]\teval-auc:0.819235\ttrain-auc:0.908319\n",
      "[188]\teval-auc:0.819456\ttrain-auc:0.908324\n",
      "[189]\teval-auc:0.819358\ttrain-auc:0.908332\n",
      "[190]\teval-auc:0.819616\ttrain-auc:0.908373\n",
      "[191]\teval-auc:0.819346\ttrain-auc:0.908407\n",
      "[192]\teval-auc:0.819674\ttrain-auc:0.908451\n",
      "[193]\teval-auc:0.819853\ttrain-auc:0.908474\n",
      "[194]\teval-auc:0.820090\ttrain-auc:0.908459\n",
      "[195]\teval-auc:0.820391\ttrain-auc:0.908499\n",
      "[196]\teval-auc:0.820493\ttrain-auc:0.908474\n",
      "[197]\teval-auc:0.820801\ttrain-auc:0.908690\n",
      "[198]\teval-auc:0.820708\ttrain-auc:0.908736\n",
      "[199]\teval-auc:0.820463\ttrain-auc:0.908767\n",
      "[200]\teval-auc:0.820680\ttrain-auc:0.908779\n",
      "[201]\teval-auc:0.820572\ttrain-auc:0.908907\n",
      "[202]\teval-auc:0.820442\ttrain-auc:0.908885\n",
      "[203]\teval-auc:0.820335\ttrain-auc:0.908941\n",
      "[204]\teval-auc:0.820334\ttrain-auc:0.909017\n",
      "[205]\teval-auc:0.820572\ttrain-auc:0.909066\n",
      "[206]\teval-auc:0.820875\ttrain-auc:0.909105\n",
      "[207]\teval-auc:0.820894\ttrain-auc:0.909146\n",
      "[208]\teval-auc:0.820663\ttrain-auc:0.909226\n",
      "[209]\teval-auc:0.820795\ttrain-auc:0.909177\n",
      "[210]\teval-auc:0.820729\ttrain-auc:0.909193\n",
      "[211]\teval-auc:0.820701\ttrain-auc:0.909152\n",
      "[212]\teval-auc:0.820532\ttrain-auc:0.909218\n",
      "[213]\teval-auc:0.820686\ttrain-auc:0.909236\n",
      "[214]\teval-auc:0.820664\ttrain-auc:0.909257\n",
      "[215]\teval-auc:0.820324\ttrain-auc:0.909437\n",
      "[216]\teval-auc:0.820529\ttrain-auc:0.909449\n",
      "[217]\teval-auc:0.820757\ttrain-auc:0.909510\n",
      "[218]\teval-auc:0.820332\ttrain-auc:0.909686\n",
      "[219]\teval-auc:0.819959\ttrain-auc:0.909893\n",
      "[220]\teval-auc:0.819948\ttrain-auc:0.909914\n",
      "[221]\teval-auc:0.820155\ttrain-auc:0.909961\n",
      "[222]\teval-auc:0.819809\ttrain-auc:0.910128\n",
      "[223]\teval-auc:0.819765\ttrain-auc:0.910219\n",
      "[224]\teval-auc:0.819939\ttrain-auc:0.910247\n",
      "[225]\teval-auc:0.819902\ttrain-auc:0.910239\n",
      "[226]\teval-auc:0.819737\ttrain-auc:0.910249\n",
      "[227]\teval-auc:0.819795\ttrain-auc:0.910324\n",
      "[228]\teval-auc:0.819159\ttrain-auc:0.910453\n",
      "[229]\teval-auc:0.819417\ttrain-auc:0.910559\n",
      "[230]\teval-auc:0.819838\ttrain-auc:0.910603\n",
      "[231]\teval-auc:0.820091\ttrain-auc:0.910603\n",
      "[232]\teval-auc:0.820098\ttrain-auc:0.910641\n",
      "[233]\teval-auc:0.820218\ttrain-auc:0.910636\n",
      "[234]\teval-auc:0.819795\ttrain-auc:0.910769\n",
      "[235]\teval-auc:0.819786\ttrain-auc:0.910806\n",
      "[236]\teval-auc:0.819760\ttrain-auc:0.910809\n",
      "[237]\teval-auc:0.819671\ttrain-auc:0.910916\n",
      "[238]\teval-auc:0.819912\ttrain-auc:0.910963\n",
      "[239]\teval-auc:0.819541\ttrain-auc:0.911021\n",
      "[240]\teval-auc:0.819233\ttrain-auc:0.911142\n",
      "[241]\teval-auc:0.819196\ttrain-auc:0.911272\n",
      "[242]\teval-auc:0.819313\ttrain-auc:0.911261\n",
      "[243]\teval-auc:0.819256\ttrain-auc:0.911328\n",
      "[244]\teval-auc:0.818884\ttrain-auc:0.911460\n",
      "[245]\teval-auc:0.818765\ttrain-auc:0.911483\n",
      "[246]\teval-auc:0.818443\ttrain-auc:0.911489\n",
      "[247]\teval-auc:0.818669\ttrain-auc:0.911470\n",
      "[248]\teval-auc:0.818381\ttrain-auc:0.911538\n",
      "[249]\teval-auc:0.818324\ttrain-auc:0.911638\n",
      "[250]\teval-auc:0.818219\ttrain-auc:0.911677\n",
      "[251]\teval-auc:0.818253\ttrain-auc:0.911733\n",
      "[252]\teval-auc:0.818518\ttrain-auc:0.911841\n",
      "[253]\teval-auc:0.818627\ttrain-auc:0.911848\n",
      "[254]\teval-auc:0.818403\ttrain-auc:0.911973\n",
      "[255]\teval-auc:0.818400\ttrain-auc:0.912028\n",
      "[256]\teval-auc:0.818836\ttrain-auc:0.912018\n",
      "[257]\teval-auc:0.819007\ttrain-auc:0.912046\n",
      "[258]\teval-auc:0.818438\ttrain-auc:0.912180\n",
      "[259]\teval-auc:0.818581\ttrain-auc:0.912176\n",
      "[260]\teval-auc:0.818872\ttrain-auc:0.912180\n",
      "[261]\teval-auc:0.818666\ttrain-auc:0.912250\n",
      "[262]\teval-auc:0.818318\ttrain-auc:0.912341\n",
      "[263]\teval-auc:0.818175\ttrain-auc:0.912353\n",
      "[264]\teval-auc:0.818343\ttrain-auc:0.912403\n",
      "[265]\teval-auc:0.818185\ttrain-auc:0.912421\n",
      "[266]\teval-auc:0.818382\ttrain-auc:0.912487\n",
      "[267]\teval-auc:0.818638\ttrain-auc:0.912490\n",
      "[268]\teval-auc:0.818552\ttrain-auc:0.912516\n",
      "[269]\teval-auc:0.818491\ttrain-auc:0.912546\n",
      "[270]\teval-auc:0.818546\ttrain-auc:0.912618\n",
      "[271]\teval-auc:0.818673\ttrain-auc:0.912625\n",
      "[272]\teval-auc:0.818347\ttrain-auc:0.912656\n",
      "[273]\teval-auc:0.818073\ttrain-auc:0.912659\n",
      "[274]\teval-auc:0.818185\ttrain-auc:0.912627\n",
      "[275]\teval-auc:0.817980\ttrain-auc:0.912701\n",
      "[276]\teval-auc:0.818065\ttrain-auc:0.912711\n",
      "[277]\teval-auc:0.817648\ttrain-auc:0.912781\n",
      "[278]\teval-auc:0.817860\ttrain-auc:0.912766\n",
      "[279]\teval-auc:0.818132\ttrain-auc:0.912777\n",
      "[280]\teval-auc:0.817851\ttrain-auc:0.912867\n",
      "[281]\teval-auc:0.817439\ttrain-auc:0.912901\n",
      "[282]\teval-auc:0.817497\ttrain-auc:0.912961\n",
      "[283]\teval-auc:0.817390\ttrain-auc:0.912971\n",
      "[284]\teval-auc:0.817215\ttrain-auc:0.913006\n",
      "[285]\teval-auc:0.817432\ttrain-auc:0.913054\n",
      "[286]\teval-auc:0.817473\ttrain-auc:0.913076\n",
      "[287]\teval-auc:0.817452\ttrain-auc:0.913210\n",
      "[288]\teval-auc:0.817194\ttrain-auc:0.913209\n",
      "[289]\teval-auc:0.817340\ttrain-auc:0.913218\n",
      "[290]\teval-auc:0.817385\ttrain-auc:0.913280\n",
      "[291]\teval-auc:0.817641\ttrain-auc:0.913340\n",
      "[292]\teval-auc:0.817949\ttrain-auc:0.913346\n",
      "[293]\teval-auc:0.817928\ttrain-auc:0.913329\n",
      "[294]\teval-auc:0.817994\ttrain-auc:0.913328\n",
      "[295]\teval-auc:0.817870\ttrain-auc:0.913358\n",
      "[296]\teval-auc:0.817902\ttrain-auc:0.913351\n",
      "[297]\teval-auc:0.817945\ttrain-auc:0.913342\n",
      "[298]\teval-auc:0.817840\ttrain-auc:0.913384\n",
      "[299]\teval-auc:0.817778\ttrain-auc:0.913394\n",
      "[300]\teval-auc:0.817469\ttrain-auc:0.913436\n"
     ]
    },
    {
     "ename": "KeyboardInterrupt",
     "evalue": "",
     "output_type": "error",
     "traceback": [
      "\u001b[1;31m---------------------------------------------------------------------------\u001b[0m",
      "\u001b[1;31mKeyboardInterrupt\u001b[0m                         Traceback (most recent call last)",
      "\u001b[1;32m<ipython-input-199-8c18657153c0>\u001b[0m in \u001b[0;36m<module>\u001b[1;34m()\u001b[0m\n\u001b[0;32m     18\u001b[0m \u001b[0mwatchlist\u001b[0m \u001b[1;33m=\u001b[0m \u001b[1;33m[\u001b[0m\u001b[1;33m(\u001b[0m\u001b[0mdvalid\u001b[0m\u001b[1;33m,\u001b[0m \u001b[1;34m'eval'\u001b[0m\u001b[1;33m)\u001b[0m\u001b[1;33m,\u001b[0m \u001b[1;33m(\u001b[0m\u001b[0mdtrain\u001b[0m\u001b[1;33m,\u001b[0m \u001b[1;34m'train'\u001b[0m\u001b[1;33m)\u001b[0m\u001b[1;33m]\u001b[0m\u001b[1;33m\u001b[0m\u001b[0m\n\u001b[0;32m     19\u001b[0m gbm = xgb.train(params, dtrain, num_rounds, evals=watchlist, early_stopping_rounds=50, \n\u001b[1;32m---> 20\u001b[1;33m                 verbose_eval=True)\n\u001b[0m",
      "\u001b[1;32md:\\#Cloud\\Dropbox\\Projects\\Kaggle\\.framework\\xgboost\\wrapper\\xgboost.pyc\u001b[0m in \u001b[0;36mtrain\u001b[1;34m(params, dtrain, num_boost_round, evals, obj, feval, early_stopping_rounds, evals_result, verbose_eval)\u001b[0m\n\u001b[0;32m    836\u001b[0m \u001b[1;33m\u001b[0m\u001b[0m\n\u001b[0;32m    837\u001b[0m         \u001b[1;32mfor\u001b[0m \u001b[0mi\u001b[0m \u001b[1;32min\u001b[0m \u001b[0mrange\u001b[0m\u001b[1;33m(\u001b[0m\u001b[0mnum_boost_round\u001b[0m\u001b[1;33m)\u001b[0m\u001b[1;33m:\u001b[0m\u001b[1;33m\u001b[0m\u001b[0m\n\u001b[1;32m--> 838\u001b[1;33m             \u001b[0mbst\u001b[0m\u001b[1;33m.\u001b[0m\u001b[0mupdate\u001b[0m\u001b[1;33m(\u001b[0m\u001b[0mdtrain\u001b[0m\u001b[1;33m,\u001b[0m \u001b[0mi\u001b[0m\u001b[1;33m,\u001b[0m \u001b[0mobj\u001b[0m\u001b[1;33m)\u001b[0m\u001b[1;33m\u001b[0m\u001b[0m\n\u001b[0m\u001b[0;32m    839\u001b[0m             \u001b[0mbst_eval_set\u001b[0m \u001b[1;33m=\u001b[0m \u001b[0mbst\u001b[0m\u001b[1;33m.\u001b[0m\u001b[0meval_set\u001b[0m\u001b[1;33m(\u001b[0m\u001b[0mevals\u001b[0m\u001b[1;33m,\u001b[0m \u001b[0mi\u001b[0m\u001b[1;33m,\u001b[0m \u001b[0mfeval\u001b[0m\u001b[1;33m)\u001b[0m\u001b[1;33m\u001b[0m\u001b[0m\n\u001b[0;32m    840\u001b[0m \u001b[1;33m\u001b[0m\u001b[0m\n",
      "\u001b[1;32md:\\#Cloud\\Dropbox\\Projects\\Kaggle\\.framework\\xgboost\\wrapper\\xgboost.pyc\u001b[0m in \u001b[0;36mupdate\u001b[1;34m(self, dtrain, iteration, fobj)\u001b[0m\n\u001b[0;32m    495\u001b[0m             \u001b[1;32mraise\u001b[0m \u001b[0mTypeError\u001b[0m\u001b[1;33m(\u001b[0m\u001b[1;34m'invalid training matrix: {}'\u001b[0m\u001b[1;33m.\u001b[0m\u001b[0mformat\u001b[0m\u001b[1;33m(\u001b[0m\u001b[0mtype\u001b[0m\u001b[1;33m(\u001b[0m\u001b[0mdtrain\u001b[0m\u001b[1;33m)\u001b[0m\u001b[1;33m.\u001b[0m\u001b[0m__name__\u001b[0m\u001b[1;33m)\u001b[0m\u001b[1;33m)\u001b[0m\u001b[1;33m\u001b[0m\u001b[0m\n\u001b[0;32m    496\u001b[0m         \u001b[1;32mif\u001b[0m \u001b[0mfobj\u001b[0m \u001b[1;32mis\u001b[0m \u001b[0mNone\u001b[0m\u001b[1;33m:\u001b[0m\u001b[1;33m\u001b[0m\u001b[0m\n\u001b[1;32m--> 497\u001b[1;33m             \u001b[0m_check_call\u001b[0m\u001b[1;33m(\u001b[0m\u001b[0m_LIB\u001b[0m\u001b[1;33m.\u001b[0m\u001b[0mXGBoosterUpdateOneIter\u001b[0m\u001b[1;33m(\u001b[0m\u001b[0mself\u001b[0m\u001b[1;33m.\u001b[0m\u001b[0mhandle\u001b[0m\u001b[1;33m,\u001b[0m \u001b[0miteration\u001b[0m\u001b[1;33m,\u001b[0m \u001b[0mdtrain\u001b[0m\u001b[1;33m.\u001b[0m\u001b[0mhandle\u001b[0m\u001b[1;33m)\u001b[0m\u001b[1;33m)\u001b[0m\u001b[1;33m\u001b[0m\u001b[0m\n\u001b[0m\u001b[0;32m    498\u001b[0m         \u001b[1;32melse\u001b[0m\u001b[1;33m:\u001b[0m\u001b[1;33m\u001b[0m\u001b[0m\n\u001b[0;32m    499\u001b[0m             \u001b[0mpred\u001b[0m \u001b[1;33m=\u001b[0m \u001b[0mself\u001b[0m\u001b[1;33m.\u001b[0m\u001b[0mpredict\u001b[0m\u001b[1;33m(\u001b[0m\u001b[0mdtrain\u001b[0m\u001b[1;33m)\u001b[0m\u001b[1;33m\u001b[0m\u001b[0m\n",
      "\u001b[1;31mKeyboardInterrupt\u001b[0m: "
     ]
    }
   ],
   "source": [
    "seed = 2\n",
    "params = {\"objective\": \"binary:logistic\",\n",
    "          \"eval_metric\": \"auc\",\n",
    "          \"eta\": 0.3,\n",
    "          \"max_depth\": 20,\n",
    "          \"subsample\": 0.7,\n",
    "          \"colsample_bytree\": 0.7,\n",
    "          \"silent\": 1,\n",
    "          \"seed\": seed\n",
    "         }\n",
    "features = [\"i\", \"j\", \"adamic_adar_index\",\"adamic_adar_index2\",\"adamic_adar_index3\",\"jaccards_coef\",\"jaccards_coef2\",\"jaccards_coef3\",\"nx_prob\"] \n",
    "features = [\"adamic_adar_index\",\"adamic_adar_index2\",\"adamic_adar_index3\",\"jaccards_coef\",\"jaccards_coef2\",\"jaccards_coef3\",\"nx_prob\"]\n",
    "features = [\"i\", \"j\"] \n",
    "X_train, X_test = cross_validation.train_test_split(data_train, test_size=0.1)\n",
    "num_rounds = 1000\n",
    "dtrain = xgb.DMatrix(X_train[features], label=X_train[\"y\"])\n",
    "dvalid = xgb.DMatrix(X_test[features], label=X_test[\"y\"])\n",
    "watchlist = [(dvalid, 'eval'), (dtrain, 'train')]\n",
    "gbm = xgb.train(params, dtrain, num_rounds, evals=watchlist, early_stopping_rounds=50, \n",
    "                verbose_eval=True)"
   ]
  },
  {
   "cell_type": "code",
   "execution_count": 161,
   "metadata": {
    "collapsed": true
   },
   "outputs": [],
   "source": [
    "test_probs = gbm.predict(xgb.DMatrix(data_test[features]))"
   ]
  },
  {
   "cell_type": "code",
   "execution_count": 162,
   "metadata": {
    "collapsed": false
   },
   "outputs": [
    {
     "data": {
      "text/html": [
       "<div>\n",
       "<table border=\"1\" class=\"dataframe\">\n",
       "  <thead>\n",
       "    <tr style=\"text-align: right;\">\n",
       "      <th></th>\n",
       "      <th>id</th>\n",
       "      <th>i</th>\n",
       "      <th>j</th>\n",
       "      <th>y</th>\n",
       "      <th>adamic_adar_index</th>\n",
       "      <th>adamic_adar_index2</th>\n",
       "      <th>jaccards_coef</th>\n",
       "      <th>jaccards_coef2</th>\n",
       "    </tr>\n",
       "  </thead>\n",
       "  <tbody>\n",
       "    <tr>\n",
       "      <th>0</th>\n",
       "      <td>1</td>\n",
       "      <td>4102</td>\n",
       "      <td>7781</td>\n",
       "      <td>0</td>\n",
       "      <td>0.156082</td>\n",
       "      <td>0</td>\n",
       "      <td>0.045455</td>\n",
       "      <td>0</td>\n",
       "    </tr>\n",
       "  </tbody>\n",
       "</table>\n",
       "</div>"
      ],
      "text/plain": [
       "   id     i     j  y  adamic_adar_index  adamic_adar_index2  jaccards_coef  \\\n",
       "0   1  4102  7781  0           0.156082                   0       0.045455   \n",
       "\n",
       "   jaccards_coef2  \n",
       "0               0  "
      ]
     },
     "execution_count": 162,
     "metadata": {},
     "output_type": "execute_result"
    }
   ],
   "source": [
    "data_test.head(1)"
   ]
  },
  {
   "cell_type": "code",
   "execution_count": 163,
   "metadata": {
    "collapsed": true
   },
   "outputs": [],
   "source": [
    "submission = pd.DataFrame(index=data_test.id)\n",
    "submission[\"prob\"] = test_probs\n",
    "submission.to_csv(\"data/link_prediction_problem/results/xgb.csv\")"
   ]
  },
  {
   "cell_type": "code",
   "execution_count": null,
   "metadata": {
    "collapsed": true
   },
   "outputs": [],
   "source": []
  },
  {
   "cell_type": "code",
   "execution_count": 28,
   "metadata": {
    "collapsed": false
   },
   "outputs": [],
   "source": [
    "suspicious_edges[\"adamic_adar_index\"] = 0.0\n",
    "suspicious_edges[\"adamic_adar_index2\"] = 0.0\n",
    "suspicious_edges[\"adamic_adar_index3\"] = 0.0\n",
    "suspicious_edges[\"jaccards_coef\"] = 0.0\n",
    "suspicious_edges[\"jaccards_coef2\"] = 0.0\n",
    "suspicious_edges[\"jaccards_coef3\"] = 0.0\n",
    "mx = 0.0\n",
    "for k, row in suspicious_edges.iterrows():\n",
    "    i = row[\"i\"]\n",
    "    j = row[\"j\"]\n",
    "    suspicious_edges.set_value(k, \"adamic_adar_index\", adamic_adar_index(nodes, i, j))    \n",
    "    suspicious_edges.set_value(k, \"adamic_adar_index2\", adamic_adar_index2(nodes, i, j))    \n",
    "    suspicious_edges.set_value(k, \"adamic_adar_index3\", adamic_adar_index3(nodes, i, j))    \n",
    "    suspicious_edges.set_value(k, \"jaccards_coef\", jaccards_coef(nodes, i, j))    \n",
    "    suspicious_edges.set_value(k, \"jaccards_coef2\", jaccards_coef2(nodes, i, j))    \n",
    "    suspicious_edges.set_value(k, \"jaccards_coef3\", jaccards_coef3(nodes, i, j)) "
   ]
  },
  {
   "cell_type": "code",
   "execution_count": 29,
   "metadata": {
    "collapsed": true
   },
   "outputs": [],
   "source": [
    "# adamic adar median\n",
    "md = suspicious_edges.adamic_adar_index.median()\n",
    "suspicious_edges[\"adamic_adar_prob\"] = 0.0\n",
    "for k, row in suspicious_edges.iterrows():\n",
    "    prob = 0.0\n",
    "    if row[\"adamic_adar_index\"] > md:\n",
    "        prob = 1.0\n",
    "    suspicious_edges.set_value(k, \"adamic_adar_prob\", prob)    "
   ]
  },
  {
   "cell_type": "code",
   "execution_count": 30,
   "metadata": {
    "collapsed": false
   },
   "outputs": [
    {
     "name": "stdout",
     "output_type": "stream",
     "text": [
      "0.0\n"
     ]
    }
   ],
   "source": [
    "# adamic adar 2 median\n",
    "md = suspicious_edges.adamic_adar_index2.median()\n",
    "print md\n",
    "suspicious_edges[\"adamic_adar_prob2\"] = 0.0\n",
    "for k, row in suspicious_edges.iterrows():\n",
    "    prob = 0.0\n",
    "    if row[\"adamic_adar_index2\"] > md:\n",
    "        prob = 1.0\n",
    "    suspicious_edges.set_value(k, \"adamic_adar_prob2\", prob)    "
   ]
  },
  {
   "cell_type": "code",
   "execution_count": 31,
   "metadata": {
    "collapsed": false
   },
   "outputs": [
    {
     "name": "stdout",
     "output_type": "stream",
     "text": [
      "0.0\n"
     ]
    }
   ],
   "source": [
    "# adamic adar 3 median\n",
    "md = suspicious_edges.adamic_adar_index3.median()\n",
    "print md\n",
    "suspicious_edges[\"adamic_adar_prob3\"] = 0.0\n",
    "for k, row in suspicious_edges.iterrows():\n",
    "    prob = 0.0\n",
    "    if row[\"adamic_adar_index3\"] > md:\n",
    "        prob = 1.0\n",
    "    suspicious_edges.set_value(k, \"adamic_adar_prob3\", prob) "
   ]
  },
  {
   "cell_type": "code",
   "execution_count": 32,
   "metadata": {
    "collapsed": false
   },
   "outputs": [],
   "source": [
    "# jaccards_coef median\n",
    "md = suspicious_edges.jaccards_coef.median()\n",
    "suspicious_edges[\"jaccards_coef_prob\"] = 0.0\n",
    "for k, row in suspicious_edges.iterrows():\n",
    "    prob = 0.0\n",
    "    if row[\"jaccards_coef\"] > md:\n",
    "        prob = 1.0\n",
    "    suspicious_edges.set_value(k, \"jaccards_coef_prob\", prob)    "
   ]
  },
  {
   "cell_type": "code",
   "execution_count": 33,
   "metadata": {
    "collapsed": false
   },
   "outputs": [
    {
     "name": "stdout",
     "output_type": "stream",
     "text": [
      "0.0\n"
     ]
    }
   ],
   "source": [
    "# jaccards_coef 2 median\n",
    "md = suspicious_edges.jaccards_coef2.median()\n",
    "print md\n",
    "suspicious_edges[\"jaccards_coef_prob2\"] = 0.0\n",
    "for k, row in suspicious_edges.iterrows():\n",
    "    prob = 0.0\n",
    "    if row[\"jaccards_coef2\"] > md:\n",
    "        prob = 1.0\n",
    "    suspicious_edges.set_value(k, \"jaccards_coef_prob2\", prob)    "
   ]
  },
  {
   "cell_type": "code",
   "execution_count": 34,
   "metadata": {
    "collapsed": false
   },
   "outputs": [
    {
     "name": "stdout",
     "output_type": "stream",
     "text": [
      "0.0\n"
     ]
    }
   ],
   "source": [
    "# jaccards_coef 3 median\n",
    "md = suspicious_edges.jaccards_coef2.median()\n",
    "print md\n",
    "suspicious_edges[\"jaccards_coef_prob3\"] = 0.0\n",
    "for k, row in suspicious_edges.iterrows():\n",
    "    prob = 0.0\n",
    "    if row[\"jaccards_coef3\"] > md:\n",
    "        prob = 1.0\n",
    "    suspicious_edges.set_value(k, \"jaccards_coef_prob3\", prob)    "
   ]
  },
  {
   "cell_type": "code",
   "execution_count": 35,
   "metadata": {
    "collapsed": true
   },
   "outputs": [],
   "source": [
    "# mix of probs\n",
    "suspicious_edges[\"prob\"] = 0.0\n",
    "for k, row in suspicious_edges.iterrows():\n",
    "    prob = 0.8 * row[\"adamic_adar_prob\"] + 0.1 * row[\"adamic_adar_prob2\"] + 0.1 * row[\"adamic_adar_prob3\"] + 0.1 * row[\"jaccards_coef_prob\"] + 0.1 * row[\"jaccards_coef_prob2\"] + 0.1 * row[\"jaccards_coef_prob3\"]\n",
    "    suspicious_edges.set_value(k, \"prob\", prob)    "
   ]
  },
  {
   "cell_type": "code",
   "execution_count": 110,
   "metadata": {
    "collapsed": false
   },
   "outputs": [],
   "source": [
    "save_submission(suspicious_edges.id, suspicious_edges.prob, \"mix.csv\")"
   ]
  },
  {
   "cell_type": "code",
   "execution_count": null,
   "metadata": {
    "collapsed": true
   },
   "outputs": [],
   "source": []
  },
  {
   "cell_type": "code",
   "execution_count": 36,
   "metadata": {
    "collapsed": true
   },
   "outputs": [],
   "source": [
    "G = create_graph(nodes, edges, suspicious_edges)"
   ]
  },
  {
   "cell_type": "code",
   "execution_count": 37,
   "metadata": {
    "collapsed": false
   },
   "outputs": [],
   "source": [
    "suspicious_edges[\"nx_prob\"] = 0.0\n",
    "suspicious = []\n",
    "for k, row in suspicious_edges.iterrows():\n",
    "    i = row[\"i\"]\n",
    "    j = row[\"j\"]\n",
    "    suspicious.append((j, i))\n",
    "preds = nx.resource_allocation_index(G, suspicious)\n",
    "suspicious_edges[\"nx_prob\"] = map(lambda x: x[2], preds)"
   ]
  },
  {
   "cell_type": "code",
   "execution_count": 48,
   "metadata": {
    "collapsed": false
   },
   "outputs": [],
   "source": [
    "save_submission(suspicious_edges.id, suspicious_edges.nx_prob, \"nx.csv\")"
   ]
  },
  {
   "cell_type": "code",
   "execution_count": 114,
   "metadata": {
    "collapsed": false
   },
   "outputs": [
    {
     "name": "stdout",
     "output_type": "stream",
     "text": [
      "0.00990099009901\n"
     ]
    }
   ],
   "source": [
    "nx_median = suspicious_edges.nx_prob.median()\n",
    "print nx_median"
   ]
  },
  {
   "cell_type": "code",
   "execution_count": 131,
   "metadata": {
    "collapsed": false
   },
   "outputs": [
    {
     "name": "stdout",
     "output_type": "stream",
     "text": [
      "10004\n"
     ]
    }
   ],
   "source": [
    "c = 0\n",
    "for k, row in suspicious_edges.iterrows():\n",
    "    i = row[\"i\"]\n",
    "    j = row[\"j\"]\n",
    "    nx_prob = row[\"nx_prob\"]\n",
    "    if nx_prob >= nx_median:\n",
    "        c += 1\n",
    "        G.add_edge(j, i)\n",
    "print c"
   ]
  },
  {
   "cell_type": "code",
   "execution_count": 132,
   "metadata": {
    "collapsed": true
   },
   "outputs": [],
   "source": [
    "suspicious_edges[\"nx_prob\"] = 0.0\n",
    "suspicious = []\n",
    "for k, row in suspicious_edges.iterrows():\n",
    "    i = row[\"i\"]\n",
    "    j = row[\"j\"]\n",
    "    suspicious.append((j, i))\n",
    "preds = nx.resource_allocation_index(G, suspicious)\n",
    "suspicious_edges[\"nx_prob\"] = map(lambda x: x[2], preds)"
   ]
  },
  {
   "cell_type": "code",
   "execution_count": 133,
   "metadata": {
    "collapsed": true
   },
   "outputs": [],
   "source": [
    "save_submission(suspicious_edges.id, suspicious_edges.nx_prob, \"nx_rec.csv\")"
   ]
  },
  {
   "cell_type": "code",
   "execution_count": 56,
   "metadata": {
    "collapsed": false
   },
   "outputs": [],
   "source": [
    "suspicious_edges[\"ens_prob\"] = 0.0\n",
    "for k, row in suspicious_edges.iterrows():\n",
    "    mix_prob = row[\"prob\"]\n",
    "    nx_prob = row[\"nx_prob\"]\n",
    "    ens_prob = nx_prob**0.3 + mix_prob * -0.01\n",
    "    suspicious_edges.set_value(k, \"ens_prob\", ens_prob)"
   ]
  },
  {
   "cell_type": "code",
   "execution_count": 57,
   "metadata": {
    "collapsed": true
   },
   "outputs": [],
   "source": [
    "save_submission(suspicious_edges.id, suspicious_edges.ens_prob, \"ens.csv\")"
   ]
  },
  {
   "cell_type": "code",
   "execution_count": null,
   "metadata": {
    "collapsed": true
   },
   "outputs": [],
   "source": []
  }
 ],
 "metadata": {
  "kernelspec": {
   "display_name": "Python 2",
   "language": "python",
   "name": "python2"
  },
  "language_info": {
   "codemirror_mode": {
    "name": "ipython",
    "version": 2
   },
   "file_extension": ".py",
   "mimetype": "text/x-python",
   "name": "python",
   "nbconvert_exporter": "python",
   "pygments_lexer": "ipython2",
   "version": "2.7.9"
  }
 },
 "nbformat": 4,
 "nbformat_minor": 0
}
